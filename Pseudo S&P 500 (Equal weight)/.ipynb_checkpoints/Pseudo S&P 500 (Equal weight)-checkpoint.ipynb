{
 "cells": [
  {
   "cell_type": "code",
   "execution_count": null,
   "id": "967df42f",
   "metadata": {},
   "outputs": [],
   "source": [
    "import numpy as np\n",
    "import pandas as pd\n",
    "import requests\n",
    "import math\n",
    "import xlsxwriter"
   ]
  },
  {
   "cell_type": "code",
   "execution_count": null,
   "id": "14e621be",
   "metadata": {},
   "outputs": [],
   "source": [
    "stoxx = pd.read_csv('sp_500_stocks.csv')\n",
    "stoxx"
   ]
  },
  {
   "cell_type": "code",
   "execution_count": null,
   "id": "a65ef59b",
   "metadata": {},
   "outputs": [],
   "source": [
    "from secrets import IEX_CLOUD_API_TOKEN"
   ]
  },
  {
   "cell_type": "code",
   "execution_count": null,
   "id": "b14bc631",
   "metadata": {
    "scrolled": true
   },
   "outputs": [],
   "source": [
    "symbol = 'AAPL'\n",
    "api_url = f'https://sandbox.iexapis.com/stable/stock/{symbol}/quote/?token={IEX_CLOUD_API_TOKEN}'\n",
    "data = requests.get(api_url).json()\n",
    "print(data)"
   ]
  },
  {
   "cell_type": "code",
   "execution_count": null,
   "id": "5637c192",
   "metadata": {},
   "outputs": [],
   "source": [
    "price = data['latestPrice']\n",
    "market_cap = data['marketCap']/1000000000000\n",
    "market_cap"
   ]
  },
  {
   "cell_type": "code",
   "execution_count": null,
   "id": "d2b9087a",
   "metadata": {},
   "outputs": [],
   "source": [
    "for stox in stoxx['Ticker']:\n",
    "    print(stox)"
   ]
  },
  {
   "cell_type": "code",
   "execution_count": null,
   "id": "09e3c8e4",
   "metadata": {
    "scrolled": true
   },
   "outputs": [],
   "source": [
    "column_info = ['Ticker', 'Stock Price', 'Market Cap', 'Number of shares to buy']\n",
    "info_dataframe = pd.DataFrame(columns = column_info)\n",
    "info_dataframe"
   ]
  },
  {
   "cell_type": "code",
   "execution_count": null,
   "id": "767ab6a6",
   "metadata": {},
   "outputs": [],
   "source": [
    "info_dataframe.append(pd.Series([\n",
    "    symbol,\n",
    "    price,\n",
    "    market_cap,\n",
    "    'N/A'\n",
    "],index=column_info),ignore_index=True)"
   ]
  },
  {
   "cell_type": "code",
   "execution_count": null,
   "id": "f870c591",
   "metadata": {
    "scrolled": true
   },
   "outputs": [],
   "source": [
    "column_info = ['Ticker', 'Stock Price', 'Market Cap', 'Number of shares to buy']\n",
    "info_dataframe = pd.DataFrame(columns = column_info)\n",
    "for stox in stoxx['Ticker'][:1]:\n",
    "    api_url = f'https://sandbox.iexapis.com/stable/stock/{stox}/quote/?token={IEX_CLOUD_API_TOKEN}'\n",
    "    data = requests.get(api_url).json()\n",
    "    info_dataframe=info_dataframe.append(pd.Series([\n",
    "        stox,\n",
    "        data['latestPrice'],\n",
    "        data['marketCap'],\n",
    "        'N/A'\n",
    "    ],index=column_info), ignore_index=True)"
   ]
  },
  {
   "cell_type": "code",
   "execution_count": null,
   "id": "c5131352",
   "metadata": {
    "scrolled": true
   },
   "outputs": [],
   "source": [
    "info_dataframe"
   ]
  },
  {
   "cell_type": "code",
   "execution_count": null,
   "id": "613b7042",
   "metadata": {},
   "outputs": [],
   "source": [
    "stock_chunks = []\n",
    "for i in range(0, len(stoxx['Ticker']), 100):\n",
    "    chunk = stoxx['Ticker'][i:i + 100]\n",
    "    stock_chunks.append(chunk)"
   ]
  },
  {
   "cell_type": "code",
   "execution_count": null,
   "id": "dfafb9b6",
   "metadata": {},
   "outputs": [],
   "source": [
    "stock_chunks"
   ]
  },
  {
   "cell_type": "code",
   "execution_count": null,
   "id": "1e5093e7",
   "metadata": {
    "scrolled": true
   },
   "outputs": [],
   "source": [
    "stock_chunks\n",
    "stock_string = []\n",
    "for i in range (0, len(stock_chunks)):\n",
    "    stock_string.append(','.join(stock_chunks[i]))\n",
    "    \n",
    "info_dataframe = pd.DataFrame(columns = column_info)\n",
    "for string in stock_string:\n",
    "    batch_api_call = f'https://sandbox.iexapis.com/stable/stock/market/batch?symbols={string}&types=quote&token={IEX_CLOUD_API_TOKEN}'\n",
    "    data = requests.get(batch_api_call).json()\n",
    "    for sym in string.split(','):\n",
    "        try:\n",
    "            info_dataframe = info_dataframe.append(pd.Series([\n",
    "                sym,\n",
    "                data[sym]['quote']['latestPrice'],\n",
    "                data[sym]['quote']['marketCap'],\n",
    "                'N/A'\n",
    "\n",
    "            ], index=column_info), ignore_index=True)\n",
    "        except KeyError:\n",
    "            info_dataframe = info_dataframe.append(pd.Series([\n",
    "                sym,\n",
    "                'N/A',\n",
    "                'N/A',\n",
    "                'N/A'\n",
    "\n",
    "            ], index=column_info), ignore_index=True)\n",
    "        "
   ]
  },
  {
   "cell_type": "code",
   "execution_count": null,
   "id": "591789f8",
   "metadata": {
    "scrolled": true
   },
   "outputs": [],
   "source": [
    "info_dataframe.head(137)"
   ]
  },
  {
   "cell_type": "code",
   "execution_count": null,
   "id": "f174383c",
   "metadata": {
    "scrolled": false
   },
   "outputs": [],
   "source": [
    "stock_string"
   ]
  },
  {
   "cell_type": "code",
   "execution_count": null,
   "id": "9e3ac986",
   "metadata": {
    "scrolled": true
   },
   "outputs": [],
   "source": [
    "while True:\n",
    "    portfolio_size = input(\"What is your portfolio size?\")\n",
    "    if portfolio_size.isdigit():\n",
    "        portfolio = float(portfolio_size)\n",
    "        break\n",
    "    else:\n",
    "        print('Enter a number instead')\n",
    "#         portfolio_size = input(\"What is your portfolio size?\")"
   ]
  },
  {
   "cell_type": "code",
   "execution_count": null,
   "id": "d3d9b459",
   "metadata": {
    "scrolled": true
   },
   "outputs": [],
   "source": [
    "portfolio"
   ]
  },
  {
   "cell_type": "code",
   "execution_count": null,
   "id": "29b3297c",
   "metadata": {
    "scrolled": true
   },
   "outputs": [],
   "source": [
    "position_size = portfolio/len(info_dataframe.index)\n",
    "position_size\n",
    "apple_shares = position_size/500\n",
    "print(math.floor(apple_shares))"
   ]
  },
  {
   "cell_type": "code",
   "execution_count": null,
   "id": "facdf8aa",
   "metadata": {},
   "outputs": [],
   "source": [
    "info_dataframe"
   ]
  },
  {
   "cell_type": "code",
   "execution_count": null,
   "id": "34cb9e88",
   "metadata": {
    "scrolled": false
   },
   "outputs": [],
   "source": [
    "for i in range (0, len(info_dataframe.index)):\n",
    "    try:\n",
    "        info_dataframe.loc[i, 'Number of shares to buy'] = math.floor(position_size/int(info_dataframe.loc[i, 'Stock Price']))\n",
    "    except ValueError:\n",
    "        info_dataframe.loc[i, 'Number of shares to buy'] = 'N/A'\n",
    "info_dataframe"
   ]
  },
  {
   "cell_type": "code",
   "execution_count": null,
   "id": "80ad40ec",
   "metadata": {
    "scrolled": true
   },
   "outputs": [],
   "source": [
    "len(info_dataframe.index)"
   ]
  },
  {
   "cell_type": "code",
   "execution_count": null,
   "id": "b2cdb8b8",
   "metadata": {},
   "outputs": [],
   "source": [
    "info_dataframe.to_csv('Recommended trades')"
   ]
  }
 ],
 "metadata": {
  "kernelspec": {
   "display_name": "Python 3 (ipykernel)",
   "language": "python",
   "name": "python3"
  },
  "language_info": {
   "codemirror_mode": {
    "name": "ipython",
    "version": 3
   },
   "file_extension": ".py",
   "mimetype": "text/x-python",
   "name": "python",
   "nbconvert_exporter": "python",
   "pygments_lexer": "ipython3",
   "version": "3.10.5"
  }
 },
 "nbformat": 4,
 "nbformat_minor": 5
}
