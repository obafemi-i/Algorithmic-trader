{
 "cells": [
  {
   "cell_type": "code",
   "execution_count": 3,
   "id": "967df42f",
   "metadata": {},
   "outputs": [],
   "source": [
    "import numpy as np\n",
    "import pandas as pd\n",
    "import requests\n",
    "import math"
   ]
  },
  {
   "cell_type": "code",
   "execution_count": 2,
   "id": "14e621be",
   "metadata": {},
   "outputs": [
    {
     "data": {
      "text/html": [
       "<div>\n",
       "<style scoped>\n",
       "    .dataframe tbody tr th:only-of-type {\n",
       "        vertical-align: middle;\n",
       "    }\n",
       "\n",
       "    .dataframe tbody tr th {\n",
       "        vertical-align: top;\n",
       "    }\n",
       "\n",
       "    .dataframe thead th {\n",
       "        text-align: right;\n",
       "    }\n",
       "</style>\n",
       "<table border=\"1\" class=\"dataframe\">\n",
       "  <thead>\n",
       "    <tr style=\"text-align: right;\">\n",
       "      <th></th>\n",
       "      <th>Ticker</th>\n",
       "    </tr>\n",
       "  </thead>\n",
       "  <tbody>\n",
       "    <tr>\n",
       "      <th>0</th>\n",
       "      <td>A</td>\n",
       "    </tr>\n",
       "    <tr>\n",
       "      <th>1</th>\n",
       "      <td>AAL</td>\n",
       "    </tr>\n",
       "    <tr>\n",
       "      <th>2</th>\n",
       "      <td>AAP</td>\n",
       "    </tr>\n",
       "    <tr>\n",
       "      <th>3</th>\n",
       "      <td>AAPL</td>\n",
       "    </tr>\n",
       "    <tr>\n",
       "      <th>4</th>\n",
       "      <td>ABBV</td>\n",
       "    </tr>\n",
       "    <tr>\n",
       "      <th>...</th>\n",
       "      <td>...</td>\n",
       "    </tr>\n",
       "    <tr>\n",
       "      <th>500</th>\n",
       "      <td>YUM</td>\n",
       "    </tr>\n",
       "    <tr>\n",
       "      <th>501</th>\n",
       "      <td>ZBH</td>\n",
       "    </tr>\n",
       "    <tr>\n",
       "      <th>502</th>\n",
       "      <td>ZBRA</td>\n",
       "    </tr>\n",
       "    <tr>\n",
       "      <th>503</th>\n",
       "      <td>ZION</td>\n",
       "    </tr>\n",
       "    <tr>\n",
       "      <th>504</th>\n",
       "      <td>ZTS</td>\n",
       "    </tr>\n",
       "  </tbody>\n",
       "</table>\n",
       "<p>505 rows × 1 columns</p>\n",
       "</div>"
      ],
      "text/plain": [
       "    Ticker\n",
       "0        A\n",
       "1      AAL\n",
       "2      AAP\n",
       "3     AAPL\n",
       "4     ABBV\n",
       "..     ...\n",
       "500    YUM\n",
       "501    ZBH\n",
       "502   ZBRA\n",
       "503   ZION\n",
       "504    ZTS\n",
       "\n",
       "[505 rows x 1 columns]"
      ]
     },
     "execution_count": 2,
     "metadata": {},
     "output_type": "execute_result"
    }
   ],
   "source": [
    "stoxx = pd.read_csv('sp_500_stocks.csv')\n",
    "stoxx"
   ]
  },
  {
   "cell_type": "code",
   "execution_count": 5,
   "id": "a65ef59b",
   "metadata": {},
   "outputs": [
    {
     "ename": "ImportError",
     "evalue": "cannot import name 'IEX_CLOUD_API_TOKEN' from 'secrets' (c:\\Users\\obafemi\\AppData\\Local\\Programs\\Python\\Python310\\lib\\secrets.py)",
     "output_type": "error",
     "traceback": [
      "\u001b[1;31m---------------------------------------------------------------------------\u001b[0m",
      "\u001b[1;31mImportError\u001b[0m                               Traceback (most recent call last)",
      "\u001b[1;32mc:\\Users\\obafemi\\Documents\\GitHub\\test__repos\\Algorithmic trading\\Pseudo S&P 500 (Equal weight)\\Pseudo S&P 500 (Equal weight).ipynb Cell 3\u001b[0m in \u001b[0;36m<cell line: 1>\u001b[1;34m()\u001b[0m\n\u001b[1;32m----> <a href='vscode-notebook-cell:/c%3A/Users/obafemi/Documents/GitHub/test__repos/Algorithmic%20trading/Pseudo%20S%26P%20500%20%28Equal%20weight%29/Pseudo%20S%26P%20500%20%28Equal%20weight%29.ipynb#W2sZmlsZQ%3D%3D?line=0'>1</a>\u001b[0m \u001b[39mfrom\u001b[39;00m \u001b[39msecrets\u001b[39;00m \u001b[39mimport\u001b[39;00m IEX_CLOUD_API_TOKEN\n",
      "\u001b[1;31mImportError\u001b[0m: cannot import name 'IEX_CLOUD_API_TOKEN' from 'secrets' (c:\\Users\\obafemi\\AppData\\Local\\Programs\\Python\\Python310\\lib\\secrets.py)"
     ]
    }
   ],
   "source": [
    "from secrets import IEX_CLOUD_API_TOKEN"
   ]
  },
  {
   "cell_type": "code",
   "execution_count": 4,
   "id": "b14bc631",
   "metadata": {
    "scrolled": true
   },
   "outputs": [
    {
     "ename": "NameError",
     "evalue": "name 'IEX_CLOUD_API_TOKEN' is not defined",
     "output_type": "error",
     "traceback": [
      "\u001b[1;31m---------------------------------------------------------------------------\u001b[0m",
      "\u001b[1;31mNameError\u001b[0m                                 Traceback (most recent call last)",
      "\u001b[1;32mc:\\Users\\obafemi\\Documents\\GitHub\\test__repos\\Algorithmic trading\\Pseudo S&P 500 (Equal weight)\\Pseudo S&P 500 (Equal weight).ipynb Cell 4\u001b[0m in \u001b[0;36m<cell line: 2>\u001b[1;34m()\u001b[0m\n\u001b[0;32m      <a href='vscode-notebook-cell:/c%3A/Users/obafemi/Documents/GitHub/test__repos/Algorithmic%20trading/Pseudo%20S%26P%20500%20%28Equal%20weight%29/Pseudo%20S%26P%20500%20%28Equal%20weight%29.ipynb#W3sZmlsZQ%3D%3D?line=0'>1</a>\u001b[0m symbol \u001b[39m=\u001b[39m \u001b[39m'\u001b[39m\u001b[39mAAPL\u001b[39m\u001b[39m'\u001b[39m\n\u001b[1;32m----> <a href='vscode-notebook-cell:/c%3A/Users/obafemi/Documents/GitHub/test__repos/Algorithmic%20trading/Pseudo%20S%26P%20500%20%28Equal%20weight%29/Pseudo%20S%26P%20500%20%28Equal%20weight%29.ipynb#W3sZmlsZQ%3D%3D?line=1'>2</a>\u001b[0m api_url \u001b[39m=\u001b[39m \u001b[39mf\u001b[39m\u001b[39m'\u001b[39m\u001b[39mhttps://sandbox.iexapis.com/stable/stock/\u001b[39m\u001b[39m{\u001b[39;00msymbol\u001b[39m}\u001b[39;00m\u001b[39m/quote/?token=\u001b[39m\u001b[39m{\u001b[39;00mIEX_CLOUD_API_TOKEN\u001b[39m}\u001b[39;00m\u001b[39m'\u001b[39m\n\u001b[0;32m      <a href='vscode-notebook-cell:/c%3A/Users/obafemi/Documents/GitHub/test__repos/Algorithmic%20trading/Pseudo%20S%26P%20500%20%28Equal%20weight%29/Pseudo%20S%26P%20500%20%28Equal%20weight%29.ipynb#W3sZmlsZQ%3D%3D?line=2'>3</a>\u001b[0m data \u001b[39m=\u001b[39m requests\u001b[39m.\u001b[39mget(api_url)\u001b[39m.\u001b[39mjson()\n\u001b[0;32m      <a href='vscode-notebook-cell:/c%3A/Users/obafemi/Documents/GitHub/test__repos/Algorithmic%20trading/Pseudo%20S%26P%20500%20%28Equal%20weight%29/Pseudo%20S%26P%20500%20%28Equal%20weight%29.ipynb#W3sZmlsZQ%3D%3D?line=3'>4</a>\u001b[0m \u001b[39mprint\u001b[39m(data)\n",
      "\u001b[1;31mNameError\u001b[0m: name 'IEX_CLOUD_API_TOKEN' is not defined"
     ]
    }
   ],
   "source": [
    "symbol = 'AAPL'\n",
    "api_url = f'https://sandbox.iexapis.com/stable/stock/{symbol}/quote/?token={IEX_CLOUD_API_TOKEN}'\n",
    "data = requests.get(api_url).json()\n",
    "print(data)"
   ]
  },
  {
   "cell_type": "code",
   "execution_count": null,
   "id": "5637c192",
   "metadata": {},
   "outputs": [],
   "source": [
    "price = data['latestPrice']\n",
    "market_cap = data['marketCap']/1000000000000\n",
    "market_cap"
   ]
  },
  {
   "cell_type": "code",
   "execution_count": null,
   "id": "d2b9087a",
   "metadata": {},
   "outputs": [],
   "source": [
    "for stox in stoxx['Ticker']:\n",
    "    print(stox)"
   ]
  },
  {
   "cell_type": "code",
   "execution_count": null,
   "id": "09e3c8e4",
   "metadata": {
    "scrolled": true
   },
   "outputs": [],
   "source": [
    "column_info = ['Ticker', 'Stock Price', 'Market Cap', 'Number of shares to buy']\n",
    "info_dataframe = pd.DataFrame(columns = column_info)\n",
    "info_dataframe"
   ]
  },
  {
   "cell_type": "code",
   "execution_count": null,
   "id": "767ab6a6",
   "metadata": {},
   "outputs": [],
   "source": [
    "info_dataframe.append(pd.Series([\n",
    "    symbol,\n",
    "    price,\n",
    "    market_cap,\n",
    "    'N/A'\n",
    "],index=column_info),ignore_index=True)"
   ]
  },
  {
   "cell_type": "code",
   "execution_count": null,
   "id": "f870c591",
   "metadata": {
    "scrolled": true
   },
   "outputs": [],
   "source": [
    "column_info = ['Ticker', 'Stock Price', 'Market Cap', 'Number of shares to buy']\n",
    "info_dataframe = pd.DataFrame(columns = column_info)\n",
    "for stox in stoxx['Ticker'][:1]:\n",
    "    api_url = f'https://sandbox.iexapis.com/stable/stock/{stox}/quote/?token={IEX_CLOUD_API_TOKEN}'\n",
    "    data = requests.get(api_url).json()\n",
    "    info_dataframe=info_dataframe.append(pd.Series([\n",
    "        stox,\n",
    "        data['latestPrice'],\n",
    "        data['marketCap'],\n",
    "        'N/A'\n",
    "    ],index=column_info), ignore_index=True)"
   ]
  },
  {
   "cell_type": "code",
   "execution_count": null,
   "id": "c5131352",
   "metadata": {
    "scrolled": true
   },
   "outputs": [],
   "source": [
    "info_dataframe"
   ]
  },
  {
   "cell_type": "code",
   "execution_count": null,
   "id": "613b7042",
   "metadata": {},
   "outputs": [],
   "source": [
    "stock_chunks = []\n",
    "for i in range(0, len(stoxx['Ticker']), 100):\n",
    "    chunk = stoxx['Ticker'][i:i + 100]\n",
    "    stock_chunks.append(chunk)"
   ]
  },
  {
   "cell_type": "code",
   "execution_count": null,
   "id": "dfafb9b6",
   "metadata": {},
   "outputs": [],
   "source": [
    "stock_chunks"
   ]
  },
  {
   "cell_type": "code",
   "execution_count": null,
   "id": "1e5093e7",
   "metadata": {
    "scrolled": true
   },
   "outputs": [],
   "source": [
    "stock_chunks\n",
    "stock_string = []\n",
    "for i in range (0, len(stock_chunks)):\n",
    "    stock_string.append(','.join(stock_chunks[i]))\n",
    "    \n",
    "info_dataframe = pd.DataFrame(columns = column_info)\n",
    "for string in stock_string:\n",
    "    batch_api_call = f'https://sandbox.iexapis.com/stable/stock/market/batch?symbols={string}&types=quote&token={IEX_CLOUD_API_TOKEN}'\n",
    "    data = requests.get(batch_api_call).json()\n",
    "    for sym in string.split(','):\n",
    "        try:\n",
    "            info_dataframe = info_dataframe.append(pd.Series([\n",
    "                sym,\n",
    "                data[sym]['quote']['latestPrice'],\n",
    "                data[sym]['quote']['marketCap'],\n",
    "                'N/A'\n",
    "\n",
    "            ], index=column_info), ignore_index=True)\n",
    "        except KeyError:\n",
    "            info_dataframe = info_dataframe.append(pd.Series([\n",
    "                sym,\n",
    "                'N/A',\n",
    "                'N/A',\n",
    "                'N/A'\n",
    "\n",
    "            ], index=column_info), ignore_index=True)\n",
    "        "
   ]
  },
  {
   "cell_type": "code",
   "execution_count": null,
   "id": "591789f8",
   "metadata": {
    "scrolled": true
   },
   "outputs": [],
   "source": [
    "info_dataframe.head(137)"
   ]
  },
  {
   "cell_type": "code",
   "execution_count": null,
   "id": "f174383c",
   "metadata": {
    "scrolled": false
   },
   "outputs": [],
   "source": [
    "stock_string"
   ]
  },
  {
   "cell_type": "code",
   "execution_count": null,
   "id": "9e3ac986",
   "metadata": {
    "scrolled": true
   },
   "outputs": [],
   "source": [
    "while True:\n",
    "    portfolio_size = input(\"What is your portfolio size?\")\n",
    "    if portfolio_size.isdigit():\n",
    "        portfolio = float(portfolio_size)\n",
    "        break\n",
    "    else:\n",
    "        print('Enter a number instead')\n",
    "#         portfolio_size = input(\"What is your portfolio size?\")"
   ]
  },
  {
   "cell_type": "code",
   "execution_count": null,
   "id": "d3d9b459",
   "metadata": {
    "scrolled": true
   },
   "outputs": [],
   "source": [
    "portfolio"
   ]
  },
  {
   "cell_type": "code",
   "execution_count": null,
   "id": "29b3297c",
   "metadata": {
    "scrolled": true
   },
   "outputs": [],
   "source": [
    "position_size = portfolio/len(info_dataframe.index)\n",
    "position_size\n",
    "apple_shares = position_size/500\n",
    "print(math.floor(apple_shares))"
   ]
  },
  {
   "cell_type": "code",
   "execution_count": null,
   "id": "facdf8aa",
   "metadata": {},
   "outputs": [],
   "source": [
    "info_dataframe"
   ]
  },
  {
   "cell_type": "code",
   "execution_count": null,
   "id": "34cb9e88",
   "metadata": {
    "scrolled": false
   },
   "outputs": [],
   "source": [
    "for i in range (0, len(info_dataframe.index)):\n",
    "    try:\n",
    "        info_dataframe.loc[i, 'Number of shares to buy'] = math.floor(position_size/int(info_dataframe.loc[i, 'Stock Price']))\n",
    "    except ValueError:\n",
    "        info_dataframe.loc[i, 'Number of shares to buy'] = 'N/A'\n",
    "info_dataframe"
   ]
  },
  {
   "cell_type": "code",
   "execution_count": null,
   "id": "80ad40ec",
   "metadata": {
    "scrolled": true
   },
   "outputs": [],
   "source": [
    "len(info_dataframe.index)"
   ]
  },
  {
   "cell_type": "code",
   "execution_count": null,
   "id": "b2cdb8b8",
   "metadata": {},
   "outputs": [],
   "source": [
    "info_dataframe.to_csv('Recommended trades')"
   ]
  }
 ],
 "metadata": {
  "kernelspec": {
   "display_name": "Python 3.10.5 64-bit",
   "language": "python",
   "name": "python3"
  },
  "language_info": {
   "codemirror_mode": {
    "name": "ipython",
    "version": 3
   },
   "file_extension": ".py",
   "mimetype": "text/x-python",
   "name": "python",
   "nbconvert_exporter": "python",
   "pygments_lexer": "ipython3",
   "version": "3.10.5"
  },
  "vscode": {
   "interpreter": {
    "hash": "c7d8a321b51dc71debed140d9ccb19ac884aa7589e14b9be619b407ecd1510b9"
   }
  }
 },
 "nbformat": 4,
 "nbformat_minor": 5
}
